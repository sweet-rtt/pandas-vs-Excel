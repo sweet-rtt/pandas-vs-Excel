{
 "cells": [
  {
   "cell_type": "markdown",
   "metadata": {},
   "source": [
    "# 1.创建文件"
   ]
  },
  {
   "cell_type": "code",
   "execution_count": 4,
   "metadata": {},
   "outputs": [
    {
     "name": "stdout",
     "output_type": "stream",
     "text": [
      "     Name\n",
      "ID       \n",
      "1     Tim\n",
      "2   Jenny\n",
      "3   Chris\n",
      "Done!\n"
     ]
    }
   ],
   "source": [
    "import pandas as pd\n",
    "df = pd.DataFrame({'ID':[1, 2, 3], 'Name':['Tim', 'Jenny', 'Chris']})\n",
    "df = df.set_index('ID')\n",
    "print(df)\n",
    "df.to_excel('./output.xlsx')\n",
    "print('Done!')"
   ]
  },
  {
   "cell_type": "code",
   "execution_count": 4,
   "metadata": {},
   "outputs": [
    {
     "name": "stdout",
     "output_type": "stream",
     "text": [
      "done!\n",
      "      Name\n",
      "ID        \n",
      "1      Tim\n",
      "2   Victor\n",
      "3     Nick\n"
     ]
    }
   ],
   "source": [
    "import pandas as pd\n",
    "df = pd.DataFrame({'ID':[1, 2, 3], 'Name':['Tim', 'Victor', 'Nick']})\n",
    "df = df.set_index('ID')\n",
    "df.to_excel('./output.xlsx')\n",
    "print('done!')\n",
    "print(df)"
   ]
  },
  {
   "cell_type": "markdown",
   "metadata": {},
   "source": [
    "# 2.读取文件"
   ]
  },
  {
   "cell_type": "code",
   "execution_count": 7,
   "metadata": {},
   "outputs": [
    {
     "name": "stdout",
     "output_type": "stream",
     "text": [
      "(386, 45)\n",
      "Index(['订单ID', '下单日期', '下单时间', '订单状态', '订单所含票量（不含退订）', '退订日期', '退订票量', '分销商ID',\n",
      "       '分销商名称', '分销商订单号', '游客姓名', '手机号', '证件号码', '订单实收金额（未换算）', '订单实收金额币种',\n",
      "       '订单实收金额（CNY ）', '产品ID', '产品名称', '产品套餐类型', '国内海外-产品', '产品目的地', '票ID',\n",
      "       '票状态', '使用完成日期', '票实收金额（未换算）', '票实收金额币种', '票实收金额（CNY ）', '资源ID', '资源名称',\n",
      "       '资源类型', '国内海外-资源', '资源目的地', '资源状态', '是否赔付', '赔付金额', '供应商ID', '供应商名称',\n",
      "       '供应商订单号', '是否预约', '预约日期', '使用日期', '使用时间', '资源底价（未换算）', '资源底价币种',\n",
      "       '资源底价（CNY ）'],\n",
      "      dtype='object')\n",
      "                订单ID        下单日期      下单时间  订单状态  订单所含票量（不含退订）  退订日期  退订票量  \\\n",
      "0  20200110999000026  2020-01-10  09:56:56  使用完成             2   NaN     0   \n",
      "1  20200110999000026  2020-01-10  09:56:56  使用完成             2   NaN     0   \n",
      "2  20200110999000025  2020-01-10  09:56:56  使用完成             2   NaN     0   \n",
      "3  20200110999000025  2020-01-10  09:56:56  使用完成             2   NaN     0   \n",
      "4  20200109999000132  2020-01-09  17:59:53  使用过期             4   NaN     0   \n",
      "\n",
      "   分销商ID 分销商名称                分销商订单号  ... 供应商ID     供应商名称      供应商订单号  是否预约  \\\n",
      "0      2    携程  T3-01154-10920342097  ...    81  新加坡城市自由行  ZLCIERGLGT     否   \n",
      "1      2    携程  T3-01154-10920342097  ...    81  新加坡城市自由行  REGM8ZXQGT     否   \n",
      "2      2    携程  T3-01153-10920342097  ...    81  新加坡城市自由行  HEE4US9QGT     否   \n",
      "3      2    携程  T3-01153-10920342097  ...    81  新加坡城市自由行  WX6MEFATGT     否   \n",
      "4      2    携程  T3-69901-10919401148  ...    81  新加坡城市自由行  PMVWIKQPGT     否   \n",
      "\n",
      "  预约日期        使用日期      使用时间 资源底价（未换算）  资源底价币种 资源底价（CNY ）  \n",
      "0  NaN  2020-01-11  02:27:01      54.0     人民币       54.0  \n",
      "1  NaN  2020-01-11  02:27:17      54.0     人民币       54.0  \n",
      "2  NaN  2020-01-11  02:26:22      82.0     人民币       82.0  \n",
      "3  NaN  2020-01-11  02:26:41      82.0     人民币       82.0  \n",
      "4  NaN  2020-01-10  02:01:24     148.0     人民币      148.0  \n",
      "\n",
      "[5 rows x 45 columns]\n"
     ]
    }
   ],
   "source": [
    "import pandas as pd\n",
    "people = pd.read_excel('./people.xlsx')\n",
    "print(people.shape)\n",
    "print(people.columns)\n",
    "print(people.head())"
   ]
  },
  {
   "cell_type": "markdown",
   "metadata": {},
   "source": [
    "- 若第一行，即索引0行为脏数据时，读取时"
   ]
  },
  {
   "cell_type": "code",
   "execution_count": null,
   "metadata": {},
   "outputs": [],
   "source": [
    "# 若第一行，即索引0行为脏数据时，读取时：\n",
    "people = pd.read_excel('./people.xlsx', header=1)\n",
    "# 若数据无列名，需要人为设置列名时：\n",
    "people = pd.read_excel('./peole.xlsx', header=None)\n",
    "people.columns = ['ID', 'Type', 'Title', 'First Name', 'Middle Name', 'Last Name']\n",
    "people = people.set_index('ID')\n",
    "# OR\n",
    "people.set_index('ID', inplace=True)\n",
    "# 消除第一列总是生成的新的索引\n",
    "people = pd.read_excel('./people.xlsx', index_col='ID')"
   ]
  },
  {
   "cell_type": "markdown",
   "metadata": {},
   "source": [
    "# 3. 行、列、单元格"
   ]
  },
  {
   "cell_type": "code",
   "execution_count": 8,
   "metadata": {},
   "outputs": [
    {
     "name": "stdout",
     "output_type": "stream",
     "text": [
      "<memory at 0x0000000008DA9F48>\n",
      "None\n",
      "Index([], dtype='object')\n"
     ]
    },
    {
     "name": "stderr",
     "output_type": "stream",
     "text": [
      "D:\\program_program\\lib\\site-packages\\ipykernel_launcher.py:3: FutureWarning: Series.data is deprecated and will be removed in a future version\n",
      "  This is separate from the ipykernel package so we can avoid doing imports until\n"
     ]
    }
   ],
   "source": [
    "import pandas as pd\n",
    "s1 = pd.Series()\n",
    "print(s1.data)\n",
    "print(s1.name)\n",
    "print(s1.index)"
   ]
  },
  {
   "cell_type": "code",
   "execution_count": 11,
   "metadata": {},
   "outputs": [
    {
     "name": "stdout",
     "output_type": "stream",
     "text": [
      "dict_keys(['x', 'y', 'z'])\n",
      "dict_values([100, 200, 300])\n",
      "100\n"
     ]
    }
   ],
   "source": [
    "# Series类似字典\n",
    "d  ={'x':100, 'y':200, 'z':300}\n",
    "print(d.keys())\n",
    "print(d.values())\n",
    "print(d['x'])"
   ]
  },
  {
   "cell_type": "code",
   "execution_count": 13,
   "metadata": {},
   "outputs": [
    {
     "name": "stdout",
     "output_type": "stream",
     "text": [
      "x    100\n",
      "y    200\n",
      "z    300\n",
      "dtype: int64\n",
      "<memory at 0x0000000008DA9F48>\n",
      "None\n",
      "Index(['x', 'y', 'z'], dtype='object')\n"
     ]
    },
    {
     "name": "stderr",
     "output_type": "stream",
     "text": [
      "D:\\program_program\\lib\\site-packages\\ipykernel_launcher.py:3: FutureWarning: Series.data is deprecated and will be removed in a future version\n",
      "  This is separate from the ipykernel package so we can avoid doing imports until\n"
     ]
    }
   ],
   "source": [
    "# 将dictionary转换成Series\n",
    "s1 = pd.Series(d)\n",
    "print(s1)\n",
    "print(s1.data)\n",
    "print(s1.name)\n",
    "print(s1.index)"
   ]
  },
  {
   "cell_type": "code",
   "execution_count": 15,
   "metadata": {},
   "outputs": [
    {
     "name": "stdout",
     "output_type": "stream",
     "text": [
      "x    100\n",
      "y    200\n",
      "z    300\n",
      "dtype: int64\n",
      "x    100\n",
      "y    200\n",
      "z    300\n",
      "dtype: int64\n"
     ]
    }
   ],
   "source": [
    "# 创建Series\n",
    "L1 = ['x', 'y', 'z']\n",
    "L2 = [100, 200, 300]\n",
    "s1 = pd.Series(L2, index=L1)\n",
    "print(s1)\n",
    "# or\n",
    "s2 = pd.Series([100, 200, 300], index=['x', 'y', 'z'])\n",
    "print(s2)"
   ]
  },
  {
   "cell_type": "code",
   "execution_count": 21,
   "metadata": {},
   "outputs": [
    {
     "name": "stdout",
     "output_type": "stream",
     "text": [
      "   A   B    C\n",
      "1  1  10  100\n",
      "2  2  20  200\n",
      "3  3  30  300\n",
      "     1    2    3\n",
      "A    1    2    3\n",
      "B   10   20   30\n",
      "C  100  200  300\n",
      "     A     B      C\n",
      "1  1.0  10.0    NaN\n",
      "2  2.0  20.0  100.0\n",
      "3  3.0  30.0  200.0\n",
      "4  NaN   NaN  300.0\n"
     ]
    }
   ],
   "source": [
    "# 建立一张表\n",
    "s1 = pd.Series([1, 2, 3], index=[1, 2, 3], name='A')\n",
    "s2 = pd.Series([10, 20, 30], index=[1, 2, 3], name='B')\n",
    "s3 = pd.Series([100, 200, 300], index=[1, 2, 3], name='C')\n",
    "# {}字典把每个序列看作一列\n",
    "df = pd.DataFrame({s1.name:s1, s2.name:s2, s3.name:s3})\n",
    "print(df)\n",
    "# []列表list把每个序列看作一行\n",
    "df1 = pd.DataFrame([s1, s2, s3])\n",
    "print(df1)\n",
    "# index不同\n",
    "s1 = pd.Series([1, 2, 3], index=[1, 2, 3], name='A')\n",
    "s2 = pd.Series([10, 20, 30], index=[1, 2, 3], name='B')\n",
    "s3 = pd.Series([100, 200, 300], index=[2, 3, 4], name='C')\n",
    "# {}字典把每个序列看作一列\n",
    "df3 = pd.DataFrame({s1.name:s1, s2.name:s2, s3.name:s3})\n",
    "print(df3)"
   ]
  },
  {
   "cell_type": "markdown",
   "metadata": {},
   "source": [
    "# 4.数据区域读取&填充数字"
   ]
  },
  {
   "cell_type": "code",
   "execution_count": 38,
   "metadata": {},
   "outputs": [
    {
     "name": "stdout",
     "output_type": "stream",
     "text": [
      "     ID      Name Instore Date\n",
      "0   NaN  Book_001     NaN  NaN\n",
      "1   NaN  Book_002     NaN  NaN\n",
      "2   NaN  Book_003     NaN  NaN\n",
      "3   NaN  Book_004     NaN  NaN\n",
      "4   NaN  Book_005     NaN  NaN\n",
      "5   NaN  Book_006     NaN  NaN\n",
      "6   NaN  Book_007     NaN  NaN\n",
      "7   NaN  Book_008     NaN  NaN\n",
      "8   NaN  Book_009     NaN  NaN\n",
      "9   NaN  Book_010     NaN  NaN\n",
      "10  NaN  Book_011     NaN  NaN\n",
      "11  NaN  Book_012     NaN  NaN\n",
      "12  NaN  Book_013     NaN  NaN\n",
      "13  NaN  Book_014     NaN  NaN\n",
      "14  NaN  Book_015     NaN  NaN\n",
      "15  NaN  Book_016     NaN  NaN\n",
      "16  NaN  Book_017     NaN  NaN\n",
      "17  NaN  Book_018     NaN  NaN\n",
      "18  NaN  Book_019     NaN  NaN\n",
      "19  NaN  Book_020     NaN  NaN\n",
      "0     NaN\n",
      "1     NaN\n",
      "2     NaN\n",
      "3     NaN\n",
      "4     NaN\n",
      "5     NaN\n",
      "6     NaN\n",
      "7     NaN\n",
      "8     NaN\n",
      "9     NaN\n",
      "10    NaN\n",
      "11    NaN\n",
      "12    NaN\n",
      "13    NaN\n",
      "14    NaN\n",
      "15    NaN\n",
      "16    NaN\n",
      "17    NaN\n",
      "18    NaN\n",
      "19    NaN\n",
      "Name: ID, dtype: object\n"
     ]
    }
   ],
   "source": [
    "import pandas as pd\n",
    "Books = pd.read_excel('./Books.xlsx', skiprows=3, usecols='C:F', index_col=None, dtype={'ID':str, 'Instore':str, 'Date':str})\n",
    "print(Books)\n",
    "print(Books['ID'])"
   ]
  },
  {
   "cell_type": "code",
   "execution_count": 32,
   "metadata": {},
   "outputs": [
    {
     "name": "stdout",
     "output_type": "stream",
     "text": [
      "<class 'pandas.core.series.Series'>\n",
      "0     100.0\n",
      "1       NaN\n",
      "2       NaN\n",
      "3       NaN\n",
      "4       NaN\n",
      "5       NaN\n",
      "6       NaN\n",
      "7       NaN\n",
      "8       NaN\n",
      "9       NaN\n",
      "10      NaN\n",
      "11      NaN\n",
      "12      NaN\n",
      "13      NaN\n",
      "14      NaN\n",
      "15      NaN\n",
      "16      NaN\n",
      "17      NaN\n",
      "18      NaN\n",
      "19      NaN\n",
      "Name: ID, dtype: float64\n"
     ]
    }
   ],
   "source": [
    "print(type(Books['ID']))\n",
    "Books['ID'].at[0]=100\n",
    "print(Books['ID'])"
   ]
  },
  {
   "cell_type": "code",
   "execution_count": 42,
   "metadata": {},
   "outputs": [
    {
     "name": "stdout",
     "output_type": "stream",
     "text": [
      "    ID      Name Instore        Date\n",
      "0    1  Book_001     Yes  2018-01-01\n",
      "1    2  Book_002      No  2018-01-01\n",
      "2    3  Book_003     Yes  2018-01-01\n",
      "3    4  Book_004      No  2018-01-01\n",
      "4    5  Book_005     Yes  2018-01-01\n",
      "5    6  Book_006      No  2018-01-01\n",
      "6    7  Book_007     Yes  2018-01-01\n",
      "7    8  Book_008      No  2018-01-01\n",
      "8    9  Book_009     Yes  2018-01-01\n",
      "9   10  Book_010      No  2018-01-01\n",
      "10  11  Book_011     Yes  2018-01-01\n",
      "11  12  Book_012      No  2018-01-01\n",
      "12  13  Book_013     Yes  2018-01-01\n",
      "13  14  Book_014      No  2018-01-01\n",
      "14  15  Book_015     Yes  2018-01-01\n",
      "15  16  Book_016      No  2018-01-01\n",
      "16  17  Book_017     Yes  2018-01-01\n",
      "17  18  Book_018      No  2018-01-01\n",
      "18  19  Book_019     Yes  2018-01-01\n",
      "19  20  Book_020      No  2018-01-01\n"
     ]
    }
   ],
   "source": [
    "from datetime import date, timedelta\n",
    "start = date(2018, 1, 1)\n",
    "for i in Books.index:\n",
    "    Books['ID'].at[i] = i+1\n",
    "    Books['Instore'].at[i] = 'Yes' if i%2==0 else 'No'\n",
    "    Books['Date'].at[i] = start\n",
    "print(Books)"
   ]
  },
  {
   "cell_type": "code",
   "execution_count": 40,
   "metadata": {},
   "outputs": [
    {
     "name": "stdout",
     "output_type": "stream",
     "text": [
      "0     NaN\n",
      "1     NaN\n",
      "2     NaN\n",
      "3     NaN\n",
      "4     NaN\n",
      "5     NaN\n",
      "6     NaN\n",
      "7     NaN\n",
      "8     NaN\n",
      "9     NaN\n",
      "10    NaN\n",
      "11    NaN\n",
      "12    NaN\n",
      "13    NaN\n",
      "14    NaN\n",
      "15    NaN\n",
      "16    NaN\n",
      "17    NaN\n",
      "18    NaN\n",
      "19    NaN\n",
      "Name: Instore, dtype: object\n",
      "0     NaN\n",
      "1     NaN\n",
      "2     NaN\n",
      "3     NaN\n",
      "4     NaN\n",
      "5     NaN\n",
      "6     NaN\n",
      "7     NaN\n",
      "8     NaN\n",
      "9     NaN\n",
      "10    NaN\n",
      "11    NaN\n",
      "12    NaN\n",
      "13    NaN\n",
      "14    NaN\n",
      "15    NaN\n",
      "16    NaN\n",
      "17    NaN\n",
      "18    NaN\n",
      "19    NaN\n",
      "Name: Date, dtype: object\n"
     ]
    }
   ],
   "source": [
    "print(Books['Instore'])\n",
    "print(Books['Date'])"
   ]
  },
  {
   "cell_type": "markdown",
   "metadata": {},
   "source": [
    "# 5.填充日期序列"
   ]
  },
  {
   "cell_type": "code",
   "execution_count": 44,
   "metadata": {},
   "outputs": [
    {
     "name": "stdout",
     "output_type": "stream",
     "text": [
      "    ID      Name Instore        Date\n",
      "0    1  Book_001     Yes  2018-01-01\n",
      "1    2  Book_002      No  2018-01-02\n",
      "2    3  Book_003     Yes  2018-01-03\n",
      "3    4  Book_004      No  2018-01-04\n",
      "4    5  Book_005     Yes  2018-01-05\n",
      "5    6  Book_006      No  2018-01-06\n",
      "6    7  Book_007     Yes  2018-01-07\n",
      "7    8  Book_008      No  2018-01-08\n",
      "8    9  Book_009     Yes  2018-01-09\n",
      "9   10  Book_010      No  2018-01-10\n",
      "10  11  Book_011     Yes  2018-01-11\n",
      "11  12  Book_012      No  2018-01-12\n",
      "12  13  Book_013     Yes  2018-01-13\n",
      "13  14  Book_014      No  2018-01-14\n",
      "14  15  Book_015     Yes  2018-01-15\n",
      "15  16  Book_016      No  2018-01-16\n",
      "16  17  Book_017     Yes  2018-01-17\n",
      "17  18  Book_018      No  2018-01-18\n",
      "18  19  Book_019     Yes  2018-01-19\n",
      "19  20  Book_020      No  2018-01-20\n"
     ]
    }
   ],
   "source": [
    "# 加天\n",
    "from datetime import date, timedelta\n",
    "start = date(2018, 1, 1)\n",
    "for i in Books.index:\n",
    "    Books['ID'].at[i] = i+1\n",
    "    Books['Instore'].at[i] = 'Yes' if i%2==0 else 'No'\n",
    "    Books['Date'].at[i] = start + timedelta(days=i)\n",
    "print(Books)"
   ]
  },
  {
   "cell_type": "code",
   "execution_count": 47,
   "metadata": {},
   "outputs": [
    {
     "name": "stdout",
     "output_type": "stream",
     "text": [
      "    ID      Name Instore        Date\n",
      "0    1  Book_001     Yes  2018-01-01\n",
      "1    2  Book_002      No  2019-01-01\n",
      "2    3  Book_003     Yes  2020-01-01\n",
      "3    4  Book_004      No  2021-01-01\n",
      "4    5  Book_005     Yes  2022-01-01\n",
      "5    6  Book_006      No  2023-01-01\n",
      "6    7  Book_007     Yes  2024-01-01\n",
      "7    8  Book_008      No  2025-01-01\n",
      "8    9  Book_009     Yes  2026-01-01\n",
      "9   10  Book_010      No  2027-01-01\n",
      "10  11  Book_011     Yes  2028-01-01\n",
      "11  12  Book_012      No  2029-01-01\n",
      "12  13  Book_013     Yes  2030-01-01\n",
      "13  14  Book_014      No  2031-01-01\n",
      "14  15  Book_015     Yes  2032-01-01\n",
      "15  16  Book_016      No  2033-01-01\n",
      "16  17  Book_017     Yes  2034-01-01\n",
      "17  18  Book_018      No  2035-01-01\n",
      "18  19  Book_019     Yes  2036-01-01\n",
      "19  20  Book_020      No  2037-01-01\n"
     ]
    }
   ],
   "source": [
    "# 加年\n",
    "from datetime import date, timedelta\n",
    "start = date(2018, 1, 1)\n",
    "for i in Books.index:\n",
    "    Books['ID'].at[i] = i+1\n",
    "    Books['Instore'].at[i] = 'Yes' if i%2==0 else 'No'\n",
    "    Books['Date'].at[i] = date(start.year+i, start.month, start.day)\n",
    "print(Books)"
   ]
  },
  {
   "cell_type": "code",
   "execution_count": 54,
   "metadata": {},
   "outputs": [
    {
     "name": "stdout",
     "output_type": "stream",
     "text": [
      "    ID      Name Instore        Date\n",
      "0    1  Book_001     Yes  2018-01-01\n",
      "1    2  Book_002      No  2018-02-01\n",
      "2    3  Book_003     Yes  2018-03-01\n",
      "3    4  Book_004      No  2018-04-01\n",
      "4    5  Book_005     Yes  2018-05-01\n",
      "5    6  Book_006      No  2018-06-01\n",
      "6    7  Book_007     Yes  2018-07-01\n",
      "7    8  Book_008      No  2018-08-01\n",
      "8    9  Book_009     Yes  2018-09-01\n",
      "9   10  Book_010      No  2018-10-01\n",
      "10  11  Book_011     Yes  2018-11-01\n",
      "11  12  Book_012      No  2018-12-01\n",
      "12  13  Book_013     Yes  2019-01-01\n",
      "13  14  Book_014      No  2019-02-01\n",
      "14  15  Book_015     Yes  2019-03-01\n",
      "15  16  Book_016      No  2019-04-01\n",
      "16  17  Book_017     Yes  2019-05-01\n",
      "17  18  Book_018      No  2019-06-01\n",
      "18  19  Book_019     Yes  2019-07-01\n",
      "19  20  Book_020      No  2019-08-01\n",
      "        Name Instore        Date\n",
      "ID                              \n",
      "1   Book_001     Yes  2018-01-01\n",
      "2   Book_002      No  2018-02-01\n",
      "3   Book_003     Yes  2018-03-01\n",
      "4   Book_004      No  2018-04-01\n",
      "5   Book_005     Yes  2018-05-01\n",
      "6   Book_006      No  2018-06-01\n",
      "7   Book_007     Yes  2018-07-01\n",
      "8   Book_008      No  2018-08-01\n",
      "9   Book_009     Yes  2018-09-01\n",
      "10  Book_010      No  2018-10-01\n",
      "11  Book_011     Yes  2018-11-01\n",
      "12  Book_012      No  2018-12-01\n",
      "13  Book_013     Yes  2019-01-01\n",
      "14  Book_014      No  2019-02-01\n",
      "15  Book_015     Yes  2019-03-01\n",
      "16  Book_016      No  2019-04-01\n",
      "17  Book_017     Yes  2019-05-01\n",
      "18  Book_018      No  2019-06-01\n",
      "19  Book_019     Yes  2019-07-01\n",
      "20  Book_020      No  2019-08-01\n",
      "Done!\n"
     ]
    }
   ],
   "source": [
    "# 加月\n",
    "def add_month(d, md):\n",
    "    yd = md//12\n",
    "    m = d.month + md%12\n",
    "    if m!= 12:\n",
    "        yd += m//12\n",
    "        m = m%12\n",
    "    return date(d.year+yd, m, d.day)\n",
    "\n",
    "from datetime import date, timedelta\n",
    "start = date(2018, 1, 1)\n",
    "for i in Books.index:\n",
    "    Books['ID'].at[i] = i+1\n",
    "    Books['Instore'].at[i] = 'Yes' if i%2==0 else 'No'\n",
    "    Books['Date'].at[i] = add_month(start,i)\n",
    "print(Books)\n",
    "\n",
    "Books.set_index('ID', inplace=True)\n",
    "print(Books)\n",
    "Books.to_excel('./output1.xlsx')\n",
    "print('Done!')"
   ]
  },
  {
   "cell_type": "code",
   "execution_count": null,
   "metadata": {},
   "outputs": [],
   "source": []
  }
 ],
 "metadata": {
  "kernelspec": {
   "display_name": "Python 3",
   "language": "python",
   "name": "python3"
  },
  "language_info": {
   "codemirror_mode": {
    "name": "ipython",
    "version": 3
   },
   "file_extension": ".py",
   "mimetype": "text/x-python",
   "name": "python",
   "nbconvert_exporter": "python",
   "pygments_lexer": "ipython3",
   "version": "3.7.3"
  }
 },
 "nbformat": 4,
 "nbformat_minor": 2
}

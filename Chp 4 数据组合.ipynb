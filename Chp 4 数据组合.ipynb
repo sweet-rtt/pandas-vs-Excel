{
 "cells": [
  {
   "cell_type": "markdown",
   "metadata": {},
   "source": [
    "# 1.多表联合"
   ]
  },
  {
   "cell_type": "code",
   "execution_count": 9,
   "metadata": {},
   "outputs": [
    {
     "name": "stdout",
     "output_type": "stream",
     "text": [
      "           name  score\n",
      "ID                    \n",
      "1   Student_001     92\n",
      "3   Student_003     93\n",
      "5   Student_005     82\n",
      "7   Student_007     83\n",
      "9   Student_009     85\n",
      "11  Student_011     92\n",
      "13  Student_013     93\n",
      "15  Student_015     94\n",
      "17  Student_017     90\n",
      "19  Student_019     91\n",
      "21  Student_021      0\n",
      "23  Student_023      0\n",
      "25  Student_025      0\n",
      "27  Student_027      0\n",
      "29  Student_029      0\n",
      "31  Student_031      0\n",
      "33  Student_033      0\n",
      "35  Student_035      0\n",
      "37  Student_037      0\n",
      "39  Student_039      0\n"
     ]
    }
   ],
   "source": [
    "# 纵向联合excel：vlookup SQL：join pandas:merge or join\n",
    "# 横向联合sql：unit\n",
    "import pandas as pd\n",
    "students = pd.read_excel('./student_score.xlsx', sheet_name='students', index_col='ID')\n",
    "scores = pd.read_excel('./student_score.xlsx', sheet_name='scores', index_col='ID')\n",
    "table = students.merge(scores, on='ID', how='left').fillna(0)\n",
    "table.score = table.score.astype(int)\n",
    "print(table)"
   ]
  },
  {
   "cell_type": "code",
   "execution_count": 10,
   "metadata": {},
   "outputs": [
    {
     "name": "stdout",
     "output_type": "stream",
     "text": [
      "           name  score\n",
      "ID                    \n",
      "1   Student_001     92\n",
      "3   Student_003     93\n",
      "5   Student_005     82\n",
      "7   Student_007     83\n",
      "9   Student_009     85\n",
      "11  Student_011     92\n",
      "13  Student_013     93\n",
      "15  Student_015     94\n",
      "17  Student_017     90\n",
      "19  Student_019     91\n",
      "21  Student_021      0\n",
      "23  Student_023      0\n",
      "25  Student_025      0\n",
      "27  Student_027      0\n",
      "29  Student_029      0\n",
      "31  Student_031      0\n",
      "33  Student_033      0\n",
      "35  Student_035      0\n",
      "37  Student_037      0\n",
      "39  Student_039      0\n"
     ]
    }
   ],
   "source": [
    "# join, 自动使用index联合，没有left_on, right_on\n",
    "import pandas as pd\n",
    "students = pd.read_excel('./student_score.xlsx', sheet_name='students', index_col='ID')\n",
    "scores = pd.read_excel('./student_score.xlsx', sheet_name='scores', index_col='ID')\n",
    "table = students.join(scores, how='left').fillna(0)\n",
    "table.score = table.score.astype(int)\n",
    "print(table)"
   ]
  },
  {
   "cell_type": "markdown",
   "metadata": {},
   "source": [
    "# 2.数据校验（data validation）、轴的概念"
   ]
  },
  {
   "cell_type": "code",
   "execution_count": 22,
   "metadata": {},
   "outputs": [
    {
     "name": "stdout",
     "output_type": "stream",
     "text": [
      "#1\tstudent 0 has an invalid score -40.\n",
      "#2\tstudent 1 has an invalid score -30.\n",
      "#3\tstudent 2 has an invalid score -20.\n",
      "#4\tstudent 3 has an invalid score -10.\n",
      "#16\tstudent 15 has an invalid score 110.\n",
      "#17\tstudent 16 has an invalid score 120.\n",
      "#18\tstudent 17 has an invalid score 130.\n",
      "#19\tstudent 18 has an invalid score 140.\n",
      "#20\tstudent 19 has an invalid score 150.\n"
     ]
    },
    {
     "data": {
      "text/plain": [
       "0     None\n",
       "1     None\n",
       "2     None\n",
       "3     None\n",
       "4     None\n",
       "5     None\n",
       "6     None\n",
       "7     None\n",
       "8     None\n",
       "9     None\n",
       "10    None\n",
       "11    None\n",
       "12    None\n",
       "13    None\n",
       "14    None\n",
       "15    None\n",
       "16    None\n",
       "17    None\n",
       "18    None\n",
       "19    None\n",
       "dtype: object"
      ]
     },
     "execution_count": 22,
     "metadata": {},
     "output_type": "execute_result"
    }
   ],
   "source": [
    "import pandas as pd\n",
    "\n",
    "# 数据校验\n",
    "def score_validation(rows):\n",
    "    try:\n",
    "        assert 0 <= rows.score <= 100\n",
    "    except:\n",
    "        print(f'#{rows.ID}\\tstudent {rows.name} has an invalid score {rows.score}.')\n",
    "        \n",
    "students = pd.read_excel('./students2.xlsx')\n",
    "students.apply(score_validation, axis=1)\n",
    "# print(students)"
   ]
  },
  {
   "cell_type": "code",
   "execution_count": 23,
   "metadata": {},
   "outputs": [
    {
     "name": "stdout",
     "output_type": "stream",
     "text": [
      "#1\tstudent 0 has an invalid score -40.\n",
      "#2\tstudent 1 has an invalid score -30.\n",
      "#3\tstudent 2 has an invalid score -20.\n",
      "#4\tstudent 3 has an invalid score -10.\n",
      "#16\tstudent 15 has an invalid score 110.\n",
      "#17\tstudent 16 has an invalid score 120.\n",
      "#18\tstudent 17 has an invalid score 130.\n",
      "#19\tstudent 18 has an invalid score 140.\n",
      "#20\tstudent 19 has an invalid score 150.\n"
     ]
    },
    {
     "data": {
      "text/plain": [
       "0     None\n",
       "1     None\n",
       "2     None\n",
       "3     None\n",
       "4     None\n",
       "5     None\n",
       "6     None\n",
       "7     None\n",
       "8     None\n",
       "9     None\n",
       "10    None\n",
       "11    None\n",
       "12    None\n",
       "13    None\n",
       "14    None\n",
       "15    None\n",
       "16    None\n",
       "17    None\n",
       "18    None\n",
       "19    None\n",
       "dtype: object"
      ]
     },
     "execution_count": 23,
     "metadata": {},
     "output_type": "execute_result"
    }
   ],
   "source": [
    "import pandas as pd\n",
    "\n",
    "# 数据校验\n",
    "def score_validation(rows):\n",
    "    if not 0 <= rows.score <= 100:\n",
    "        print(f'#{rows.ID}\\tstudent {rows.name} has an invalid score {rows.score}.')\n",
    "        \n",
    "students = pd.read_excel('./students2.xlsx')\n",
    "students.apply(score_validation, axis=1)\n",
    "# print(students)"
   ]
  },
  {
   "cell_type": "markdown",
   "metadata": {},
   "source": [
    "# 3.把一列数据分割成两列（data transformation）"
   ]
  },
  {
   "cell_type": "code",
   "execution_count": 30,
   "metadata": {},
   "outputs": [
    {
     "name": "stdout",
     "output_type": "stream",
     "text": [
      "   ID   full name first name last name\n",
      "0   1  Chris Bosh      Chris      BOSH\n",
      "1   2   April Ren      April       REN\n",
      "2   3  Chris Bosh      Chris      BOSH\n",
      "3   4   April Ren      April       REN\n",
      "4   5   July Chen       July      CHEN\n",
      "5   6   July Chen       July      CHEN\n",
      "6   7  Chris Bosh      Chris      BOSH\n",
      "7   8   July Chen       July      CHEN\n",
      "8   9   April Ren      April       REN\n",
      "9  10  Chris Bosh      Chris      BOSH\n"
     ]
    }
   ],
   "source": [
    "import pandas as pd\n",
    "\n",
    "employees = pd.read_excel('./employees.xlsx')\n",
    "df = employees['full name'].str.split(' ', n=2, expand=True)\n",
    "employees['first name'] = df[0]\n",
    "employees['last name'] = df[1].str.upper()\n",
    "print(employees)"
   ]
  },
  {
   "cell_type": "code",
   "execution_count": null,
   "metadata": {},
   "outputs": [],
   "source": []
  }
 ],
 "metadata": {
  "kernelspec": {
   "display_name": "Python 3",
   "language": "python",
   "name": "python3"
  },
  "language_info": {
   "codemirror_mode": {
    "name": "ipython",
    "version": 3
   },
   "file_extension": ".py",
   "mimetype": "text/x-python",
   "name": "python",
   "nbconvert_exporter": "python",
   "pygments_lexer": "ipython3",
   "version": "3.7.3"
  }
 },
 "nbformat": 4,
 "nbformat_minor": 2
}

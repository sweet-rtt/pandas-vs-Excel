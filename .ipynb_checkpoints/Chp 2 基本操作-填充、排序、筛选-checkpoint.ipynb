{
 "cells": [
  {
   "cell_type": "markdown",
   "metadata": {},
   "source": [
    "# 1.函数填充，计算列"
   ]
  },
  {
   "cell_type": "code",
   "execution_count": 3,
   "metadata": {},
   "outputs": [
    {
     "name": "stdout",
     "output_type": "stream",
     "text": [
      "        name  listprice  discount  price\n",
      "ID                                      \n",
      "1   Book_001         10       0.5    NaN\n",
      "2   Book_002         20       0.5    NaN\n",
      "3   Book_003         30       0.5    NaN\n",
      "4   Book_004         40       0.5    NaN\n",
      "5   Book_005         50       0.5    NaN\n",
      "6   Book_006         60       0.5    NaN\n",
      "7   Book_007         70       0.5    NaN\n",
      "8   Book_008         80       0.5    NaN\n",
      "9   Book_009         90       0.5    NaN\n",
      "10  Book_010        100       0.5    NaN\n",
      "11  Book_011        110       0.5    NaN\n",
      "12  Book_012        120       0.5    NaN\n",
      "13  Book_013        130       0.5    NaN\n",
      "14  Book_014        140       0.5    NaN\n",
      "15  Book_015        150       0.5    NaN\n",
      "16  Book_016        160       0.5    NaN\n",
      "17  Book_017        170       0.5    NaN\n",
      "18  Book_018        180       0.5    NaN\n",
      "19  Book_019        190       0.5    NaN\n",
      "20  Book_020        200       0.5    NaN\n"
     ]
    }
   ],
   "source": [
    "# Chp 1学习了填充数值序列、文本序列与日期序列，本节学习函数填充，即动态计算值填充excel表\n",
    "import pandas as pd\n",
    "bookprice = pd.read_excel('./bookprice.xlsx', index_col='ID')\n",
    "print(bookprice)"
   ]
  },
  {
   "cell_type": "code",
   "execution_count": 5,
   "metadata": {},
   "outputs": [
    {
     "name": "stdout",
     "output_type": "stream",
     "text": [
      "        name  listprice  discount  price\n",
      "ID                                      \n",
      "1   Book_001         10       0.5    5.0\n",
      "2   Book_002         20       0.5   10.0\n",
      "3   Book_003         30       0.5   15.0\n",
      "4   Book_004         40       0.5   20.0\n",
      "5   Book_005         50       0.5   25.0\n",
      "6   Book_006         60       0.5   30.0\n",
      "7   Book_007         70       0.5   35.0\n",
      "8   Book_008         80       0.5   40.0\n",
      "9   Book_009         90       0.5   45.0\n",
      "10  Book_010        100       0.5   50.0\n",
      "11  Book_011        110       0.5   55.0\n",
      "12  Book_012        120       0.5   60.0\n",
      "13  Book_013        130       0.5   65.0\n",
      "14  Book_014        140       0.5   70.0\n",
      "15  Book_015        150       0.5   75.0\n",
      "16  Book_016        160       0.5   80.0\n",
      "17  Book_017        170       0.5   85.0\n",
      "18  Book_018        180       0.5   90.0\n",
      "19  Book_019        190       0.5   95.0\n",
      "20  Book_020        200       0.5  100.0\n"
     ]
    }
   ],
   "source": [
    "# 操作符的重载：加入 * 两边是两个Series，相乘时会将两个Series对齐相乘\n",
    "bookprice['price'] = bookprice['listprice'] * bookprice['discount']\n",
    "print(bookprice)"
   ]
  },
  {
   "cell_type": "code",
   "execution_count": null,
   "metadata": {},
   "outputs": [],
   "source": [
    "# range(5:16)左开右闭\n",
    "for i in range(5:16):\n",
    "for i in bookprice.index:\n",
    "    bookprice['price'].at[i] = bookprice['listprice'].at[i] * bookprice['discount'].at[i]\n",
    "# 每本书的listprice涨两块钱 方法1\n",
    "bookprice['listprice'] = bookprice['listprice'] + 2 \n",
    "# 每本书的listprice涨两块钱 方法2 用apply函数\n",
    "def add_2(x):\n",
    "    return x+2 + 2 \n",
    "bookprice['listprice'] = bookprice['listprice'].apply(add_2)\n",
    "# 每本书的listprice涨两块钱 方法2 用lambda\n",
    "bookprice['listprice'] = bookprice['listprice'].apply(lambda x:x+2)"
   ]
  },
  {
   "cell_type": "markdown",
   "metadata": {},
   "source": [
    "# 2.排序，多重排列"
   ]
  },
  {
   "cell_type": "code",
   "execution_count": 9,
   "metadata": {},
   "outputs": [
    {
     "name": "stdout",
     "output_type": "stream",
     "text": [
      "    ID      name      price worthy\n",
      "6    7  Book_007  11.857665    Yes\n",
      "19  20  Book_020  11.672735    Yes\n",
      "1    2  Book_002  11.507424    Yes\n",
      "0    1  Book_001  11.329992    Yes\n",
      "9   10  Book_010  11.266597    Yes\n",
      "4    5  Book_005  11.210753    Yes\n",
      "2    3  Book_003  11.070359     No\n",
      "14  15  Book_015  10.712900     No\n",
      "8    9  Book_009  10.710777     No\n",
      "3    4  Book_004  10.473640    Yes\n",
      "10  11  Book_011  10.416363    Yes\n",
      "12  13  Book_013   9.176972    Yes\n",
      "16  17  Book_017   8.852774    Yes\n",
      "11  12  Book_012   8.563796     No\n",
      "17  18  Book_018   7.816758     No\n",
      "15  16  Book_016   7.117960    Yes\n",
      "5    6  Book_006   6.911478     No\n",
      "13  14  Book_014   6.906171    Yes\n",
      "7    8  Book_008   5.249676    Yes\n",
      "18  19  Book_019   5.165471    Yes\n"
     ]
    }
   ],
   "source": [
    "import pandas as pd\n",
    "list = pd.read_excel('./list.xlsx')\n",
    "# 按price由高到低排序\n",
    "# inplace=True使得在原来DataFrame基础上变换，不会生成新的DataFrame\n",
    "list.sort_values(by='price', inplace=True, ascending=False)\n",
    "print(list)"
   ]
  },
  {
   "cell_type": "code",
   "execution_count": 13,
   "metadata": {},
   "outputs": [
    {
     "name": "stdout",
     "output_type": "stream",
     "text": [
      "    ID      name      price worthy\n",
      "2    3  Book_003  11.070359     No\n",
      "14  15  Book_015  10.712900     No\n",
      "8    9  Book_009  10.710777     No\n",
      "11  12  Book_012   8.563796     No\n",
      "17  18  Book_018   7.816758     No\n",
      "5    6  Book_006   6.911478     No\n",
      "6    7  Book_007  11.857665    Yes\n",
      "19  20  Book_020  11.672735    Yes\n",
      "1    2  Book_002  11.507424    Yes\n",
      "0    1  Book_001  11.329992    Yes\n",
      "9   10  Book_010  11.266597    Yes\n",
      "4    5  Book_005  11.210753    Yes\n",
      "3    4  Book_004  10.473640    Yes\n",
      "10  11  Book_011  10.416363    Yes\n",
      "12  13  Book_013   9.176972    Yes\n",
      "16  17  Book_017   8.852774    Yes\n",
      "15  16  Book_016   7.117960    Yes\n",
      "13  14  Book_014   6.906171    Yes\n",
      "7    8  Book_008   5.249676    Yes\n",
      "18  19  Book_019   5.165471    Yes\n"
     ]
    }
   ],
   "source": [
    "# 多重排序，将字段依次写到by后的list中\n",
    "list.sort_values(by=['worthy', 'price'], inplace=True, ascending=[True, False])\n",
    "print(list)"
   ]
  },
  {
   "cell_type": "markdown",
   "metadata": {},
   "source": [
    "# 3.筛选过滤"
   ]
  },
  {
   "cell_type": "code",
   "execution_count": 14,
   "metadata": {},
   "outputs": [
    {
     "name": "stdout",
     "output_type": "stream",
     "text": [
      "           name  age  score\n",
      "ID                         \n",
      "1   Student_001   24     87\n",
      "3   Student_003   18    112\n",
      "7   Student_007   21     89\n",
      "9   Student_009   24     85\n",
      "17  Student_017   23     94\n"
     ]
    }
   ],
   "source": [
    "# 筛选students表中年龄在[18,30)之间，且分数属于级别A（85<=score<200）的student\n",
    "import pandas as pd\n",
    "students = pd.read_excel('./students.xlsx', index_col='ID')\n",
    "def age_18_25(a):\n",
    "    return 18 <= a < 25\n",
    "def score_a(a):\n",
    "    return 85 <= a < 200\n",
    "students = students.loc[students['age'].apply(age_18_25)].loc[students['score'].apply(score_a)]\n",
    "print(students)"
   ]
  },
  {
   "cell_type": "code",
   "execution_count": 15,
   "metadata": {},
   "outputs": [
    {
     "name": "stdout",
     "output_type": "stream",
     "text": [
      "           name  age  score\n",
      "ID                         \n",
      "1   Student_001   24     87\n",
      "3   Student_003   18    112\n",
      "7   Student_007   21     89\n",
      "9   Student_009   24     85\n",
      "17  Student_017   23     94\n"
     ]
    }
   ],
   "source": [
    "# 用lambda表达式取代\n",
    "import pandas as pd\n",
    "students = pd.read_excel('./students.xlsx', index_col='ID')\n",
    "students = students.loc[students['age'].apply(lambda x:18<=x<25)].loc[students['score'].apply(lambda x:85<=x<200)]\n",
    "print(students)"
   ]
  },
  {
   "cell_type": "code",
   "execution_count": null,
   "metadata": {},
   "outputs": [],
   "source": [
    "# 一行太长。空格+\\。\\后面的内容写到下一行"
   ]
  },
  {
   "cell_type": "code",
   "execution_count": 16,
   "metadata": {},
   "outputs": [
    {
     "name": "stdout",
     "output_type": "stream",
     "text": [
      "           name  age  score\n",
      "ID                         \n",
      "1   Student_001   24     87\n",
      "3   Student_003   18    112\n",
      "7   Student_007   21     89\n",
      "9   Student_009   24     85\n",
      "17  Student_017   23     94\n"
     ]
    }
   ],
   "source": [
    "# 用lambda表达式取代\n",
    "import pandas as pd\n",
    "students = pd.read_excel('./students.xlsx', index_col='ID')\n",
    "students = students.loc[students['age'].apply(lambda x:18<=x<25)] \\\n",
    ".loc[students['score'].apply(lambda x:85<=x<200)]\n",
    "print(students)"
   ]
  },
  {
   "cell_type": "code",
   "execution_count": null,
   "metadata": {},
   "outputs": [],
   "source": []
  }
 ],
 "metadata": {
  "kernelspec": {
   "display_name": "Python 3",
   "language": "python",
   "name": "python3"
  },
  "language_info": {
   "codemirror_mode": {
    "name": "ipython",
    "version": 3
   },
   "file_extension": ".py",
   "mimetype": "text/x-python",
   "name": "python",
   "nbconvert_exporter": "python",
   "pygments_lexer": "ipython3",
   "version": "3.7.3"
  }
 },
 "nbformat": 4,
 "nbformat_minor": 2
}

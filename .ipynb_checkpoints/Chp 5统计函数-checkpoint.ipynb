{
 "cells": [
  {
   "cell_type": "markdown",
   "metadata": {},
   "source": [
    "# 1.求和、求平均、统计导引"
   ]
  },
  {
   "cell_type": "code",
   "execution_count": 22,
   "metadata": {},
   "outputs": [
    {
     "name": "stdout",
     "output_type": "stream",
     "text": [
      "           name  test_1  test_2  test_3\n",
      "ID                                     \n",
      "1   Student_001      79      83      85\n",
      "2   Student_002      76      83      81\n",
      "3   Student_003      79      82      84\n",
      "4   Student_004      75      79      81\n",
      "5   Student_005      75      78      85\n",
      "6   Student_006      75      78      85\n",
      "7   Student_007      79      82      82\n",
      "8   Student_008      79      81      80\n",
      "9   Student_009      76      82      84\n",
      "10  Student_010      77      82      85\n",
      "11  Student_011      77      78      83\n",
      "12  Student_012      76      83      82\n",
      "13  Student_013      75      79      83\n",
      "14  Student_014      76      79      80\n",
      "15  Student_015      75      83      85\n",
      "16  Student_016      78      80      80\n",
      "17  Student_017      75      79      83\n",
      "18  Student_018      77      79      80\n",
      "19  Student_019      76      82      86\n",
      "20  Student_020      79      82      85\n"
     ]
    }
   ],
   "source": [
    "import pandas as pd\n",
    "students = pd.read_excel('./students3.xlsx', index_col='ID')\n",
    "students[['test_1', 'test_2', 'test_3']] = students[['test_1', 'test_2', 'test_3']].astype(int)\n",
    "print(students)"
   ]
  },
  {
   "cell_type": "code",
   "execution_count": 23,
   "metadata": {},
   "outputs": [
    {
     "name": "stdout",
     "output_type": "stream",
     "text": [
      "    test_1  test_2  test_3\n",
      "ID                        \n",
      "1       79      83      85\n",
      "2       76      83      81\n",
      "3       79      82      84\n",
      "4       75      79      81\n",
      "5       75      78      85\n",
      "6       75      78      85\n",
      "7       79      82      82\n",
      "8       79      81      80\n",
      "9       76      82      84\n",
      "10      77      82      85\n",
      "11      77      78      83\n",
      "12      76      83      82\n",
      "13      75      79      83\n",
      "14      76      79      80\n",
      "15      75      83      85\n",
      "16      78      80      80\n",
      "17      75      79      83\n",
      "18      77      79      80\n",
      "19      76      82      86\n",
      "20      79      82      85\n"
     ]
    }
   ],
   "source": [
    "temp = students[['test_1', 'test_2', 'test_3']]\n",
    "print(temp)"
   ]
  },
  {
   "cell_type": "code",
   "execution_count": 24,
   "metadata": {},
   "outputs": [
    {
     "name": "stdout",
     "output_type": "stream",
     "text": [
      "test_1    1534\n",
      "test_2    1614\n",
      "test_3    1659\n",
      "dtype: int64\n",
      "<class 'pandas.core.series.Series'>\n"
     ]
    }
   ],
   "source": [
    "result = temp.sum()\n",
    "print(result)\n",
    "print(type(result))"
   ]
  },
  {
   "cell_type": "code",
   "execution_count": 25,
   "metadata": {},
   "outputs": [
    {
     "name": "stdout",
     "output_type": "stream",
     "text": [
      "           name  test_1  test_2  test_3  sum       mean\n",
      "ID                                                     \n",
      "1   Student_001      79      83      85  247  82.333333\n",
      "2   Student_002      76      83      81  240  80.000000\n",
      "3   Student_003      79      82      84  245  81.666667\n",
      "4   Student_004      75      79      81  235  78.333333\n",
      "5   Student_005      75      78      85  238  79.333333\n",
      "6   Student_006      75      78      85  238  79.333333\n",
      "7   Student_007      79      82      82  243  81.000000\n",
      "8   Student_008      79      81      80  240  80.000000\n",
      "9   Student_009      76      82      84  242  80.666667\n",
      "10  Student_010      77      82      85  244  81.333333\n",
      "11  Student_011      77      78      83  238  79.333333\n",
      "12  Student_012      76      83      82  241  80.333333\n",
      "13  Student_013      75      79      83  237  79.000000\n",
      "14  Student_014      76      79      80  235  78.333333\n",
      "15  Student_015      75      83      85  243  81.000000\n",
      "16  Student_016      78      80      80  238  79.333333\n",
      "17  Student_017      75      79      83  237  79.000000\n",
      "18  Student_018      77      79      80  236  78.666667\n",
      "19  Student_019      76      82      86  244  81.333333\n",
      "20  Student_020      79      82      85  246  82.000000\n"
     ]
    }
   ],
   "source": [
    "row_sum = temp.sum(axis=1)\n",
    "row_mean = temp.mean(axis=1)\n",
    "students['sum'] = row_sum\n",
    "students['mean'] = row_mean\n",
    "print(students)"
   ]
  },
  {
   "cell_type": "code",
   "execution_count": 26,
   "metadata": {},
   "outputs": [
    {
     "name": "stdout",
     "output_type": "stream",
     "text": [
      "           name  test_1  test_2  test_3     sum       mean\n",
      "0   Student_001    79.0    83.0   85.00  247.00  82.333333\n",
      "1   Student_002    76.0    83.0   81.00  240.00  80.000000\n",
      "2   Student_003    79.0    82.0   84.00  245.00  81.666667\n",
      "3   Student_004    75.0    79.0   81.00  235.00  78.333333\n",
      "4   Student_005    75.0    78.0   85.00  238.00  79.333333\n",
      "5   Student_006    75.0    78.0   85.00  238.00  79.333333\n",
      "6   Student_007    79.0    82.0   82.00  243.00  81.000000\n",
      "7   Student_008    79.0    81.0   80.00  240.00  80.000000\n",
      "8   Student_009    76.0    82.0   84.00  242.00  80.666667\n",
      "9   Student_010    77.0    82.0   85.00  244.00  81.333333\n",
      "10  Student_011    77.0    78.0   83.00  238.00  79.333333\n",
      "11  Student_012    76.0    83.0   82.00  241.00  80.333333\n",
      "12  Student_013    75.0    79.0   83.00  237.00  79.000000\n",
      "13  Student_014    76.0    79.0   80.00  235.00  78.333333\n",
      "14  Student_015    75.0    83.0   85.00  243.00  81.000000\n",
      "15  Student_016    78.0    80.0   80.00  238.00  79.333333\n",
      "16  Student_017    75.0    79.0   83.00  237.00  79.000000\n",
      "17  Student_018    77.0    79.0   80.00  236.00  78.666667\n",
      "18  Student_019    76.0    82.0   86.00  244.00  81.333333\n",
      "19  Student_020    79.0    82.0   85.00  246.00  82.000000\n",
      "20      Summary    76.7    80.7   82.95  240.35  80.116667\n"
     ]
    }
   ],
   "source": [
    "col_mean = students[['test_1', 'test_2', 'test_3', 'sum', 'mean']].mean()\n",
    "col_mean['name'] = 'Summary'\n",
    "students = students.append(col_mean, ignore_index=True)\n",
    "print(students)"
   ]
  },
  {
   "cell_type": "markdown",
   "metadata": {},
   "source": [
    "# 2.定位、消除重复数据"
   ]
  },
  {
   "cell_type": "code",
   "execution_count": 38,
   "metadata": {},
   "outputs": [
    {
     "name": "stdout",
     "output_type": "stream",
     "text": [
      "    ID         name  test_1  test_2  test_3\n",
      "5    6  Student_006      79      80      84\n",
      "6    7  Student_007      75      81      80\n",
      "7    8  Student_008      76      82      80\n",
      "8    9  Student_009      79      78      81\n",
      "9   10  Student_010      77      83      81\n",
      "10  11  Student_011      77      83      83\n",
      "11  12  Student_012      78      83      83\n",
      "12  13  Student_013      75      82      85\n",
      "13  14  Student_014      75      83      85\n",
      "14  15  Student_015      78      79      84\n",
      "15  16  Student_016      76      82      85\n",
      "16  17  Student_017      75      82      85\n",
      "17  18  Student_018      76      81      83\n",
      "18  19  Student_019      77      78      81\n",
      "19  20  Student_020      78      80      81\n",
      "20  21  Student_001      75      83      83\n",
      "21  22  Student_002      77      83      82\n",
      "22  23  Student_003      78      79      86\n",
      "23  24  Student_004      77      83      82\n",
      "24  25  Student_005      75      81      86\n"
     ]
    }
   ],
   "source": [
    "import pandas as pd\n",
    "\n",
    "students = pd.read_excel('./students_duplicates.xlsx')\n",
    "students[['test_1', 'test_2', 'test_3']] = students[['test_1', 'test_2', 'test_3']].astype(int)\n",
    "\n",
    "# 消除重复数据\n",
    "students.drop_duplicates(subset='name', inplace=True, keep='last')\n",
    "print(students)"
   ]
  },
  {
   "cell_type": "code",
   "execution_count": 42,
   "metadata": {},
   "outputs": [
    {
     "name": "stdout",
     "output_type": "stream",
     "text": [
      "0     False\n",
      "1     False\n",
      "2     False\n",
      "3     False\n",
      "4     False\n",
      "5     False\n",
      "6     False\n",
      "7     False\n",
      "8     False\n",
      "9     False\n",
      "10    False\n",
      "11    False\n",
      "12    False\n",
      "13    False\n",
      "14    False\n",
      "15    False\n",
      "16    False\n",
      "17    False\n",
      "18    False\n",
      "19    False\n",
      "20     True\n",
      "21     True\n",
      "22     True\n",
      "23     True\n",
      "24     True\n",
      "dtype: bool\n",
      "True\n"
     ]
    }
   ],
   "source": [
    "# 找出重复数据\n",
    "students = pd.read_excel('./students_duplicates.xlsx')\n",
    "dupe = students.duplicated(subset='name')\n",
    "print(dupe)\n",
    "print(dupe.any())"
   ]
  },
  {
   "cell_type": "code",
   "execution_count": 48,
   "metadata": {},
   "outputs": [
    {
     "name": "stdout",
     "output_type": "stream",
     "text": [
      "20    True\n",
      "21    True\n",
      "22    True\n",
      "23    True\n",
      "24    True\n",
      "dtype: bool\n",
      "Int64Index([20, 21, 22, 23, 24], dtype='int64')\n",
      "    ID         name     test_1     test_2     test_3\n",
      "20  21  Student_001  75.324084  83.715887  83.663148\n",
      "21  22  Student_002  77.851013  83.141535  82.279206\n",
      "22  23  Student_003  78.585744  79.975908  86.919217\n",
      "23  24  Student_004  77.601705  83.075746  82.376256\n",
      "24  25  Student_005  75.369419  81.215316  86.905766\n"
     ]
    }
   ],
   "source": [
    "# 找出students中的重复数据\n",
    "dupe = dupe[dupe == True]\n",
    "print(dupe)\n",
    "# or\n",
    "dupe = dupe[dupe]\n",
    "print(dupe.index)\n",
    "print(students.iloc[dupe.index])"
   ]
  },
  {
   "cell_type": "markdown",
   "metadata": {},
   "source": [
    "# 3.行列转换"
   ]
  },
  {
   "cell_type": "code",
   "execution_count": 52,
   "metadata": {},
   "outputs": [
    {
     "name": "stdout",
     "output_type": "stream",
     "text": [
      "month         Jan   Feb    Mar    Apr    May    Jun    Jul    Aug    Sep  \\\n",
      "active user  1000  2000   3000   4000   5000   6000   7000   8000   9000   \n",
      "page view    3500  7000  10500  14000  17500  21000  24500  28000  31500   \n",
      "\n",
      "month          Oct    Nov    Dec  \n",
      "active user  10000  11000  12000  \n",
      "page view    35000  38500  42000  \n"
     ]
    }
   ],
   "source": [
    "import pandas as pd\n",
    "pd.options.display.max_columns = 999\n",
    "\n",
    "vedios = pd.read_excel('./vedios.xlsx', index_col='month')\n",
    "table = vedios.transpose()\n",
    "print(table)"
   ]
  },
  {
   "cell_type": "code",
   "execution_count": null,
   "metadata": {},
   "outputs": [],
   "source": []
  }
 ],
 "metadata": {
  "kernelspec": {
   "display_name": "Python 3",
   "language": "python",
   "name": "python3"
  },
  "language_info": {
   "codemirror_mode": {
    "name": "ipython",
    "version": 3
   },
   "file_extension": ".py",
   "mimetype": "text/x-python",
   "name": "python",
   "nbconvert_exporter": "python",
   "pygments_lexer": "ipython3",
   "version": "3.7.3"
  }
 },
 "nbformat": 4,
 "nbformat_minor": 2
}
